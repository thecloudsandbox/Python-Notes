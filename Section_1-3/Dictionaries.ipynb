{
 "cells": [
  {
   "cell_type": "markdown",
   "id": "ff467aed",
   "metadata": {},
   "source": [
    "Dictionaries use key value pairs without index locations\n",
    "Syntax - {'key1':'value','key2':'value2'}\n",
    "\n",
    "Differences between dictionaries and lists\n",
    "Dictionaries are unordered and cannot be sorted\n",
    "Lists are ordered sequence and can be indexed and sliced\n",
    "Use a dictionary when you just need to know a value based on key value pair\n",
    "\n",
    "Lists and other dictionaries can be included in a dictionary"
   ]
  },
  {
   "cell_type": "code",
   "execution_count": 1,
   "id": "6b2d9b1a",
   "metadata": {},
   "outputs": [],
   "source": [
    "mydict = {'key1':'value1','key2':'value2'}"
   ]
  },
  {
   "cell_type": "code",
   "execution_count": 2,
   "id": "641a587b",
   "metadata": {},
   "outputs": [
    {
     "data": {
      "text/plain": [
       "{'key1': 'value1', 'key2': 'value2'}"
      ]
     },
     "execution_count": 2,
     "metadata": {},
     "output_type": "execute_result"
    }
   ],
   "source": [
    "mydict"
   ]
  },
  {
   "cell_type": "code",
   "execution_count": 3,
   "id": "a73b53b8",
   "metadata": {},
   "outputs": [
    {
     "data": {
      "text/plain": [
       "'value1'"
      ]
     },
     "execution_count": 3,
     "metadata": {},
     "output_type": "execute_result"
    }
   ],
   "source": [
    "mydict['key1']"
   ]
  },
  {
   "cell_type": "code",
   "execution_count": 4,
   "id": "06ae59fb",
   "metadata": {},
   "outputs": [],
   "source": [
    "prices = {'apple':1.99,'oranges':2.99,'banana':3.99}"
   ]
  },
  {
   "cell_type": "code",
   "execution_count": 5,
   "id": "1f829de7",
   "metadata": {},
   "outputs": [
    {
     "data": {
      "text/plain": [
       "{'apple': 1.99, 'oranges': 2.99, 'banana': 3.99}"
      ]
     },
     "execution_count": 5,
     "metadata": {},
     "output_type": "execute_result"
    }
   ],
   "source": [
    "prices"
   ]
  },
  {
   "cell_type": "code",
   "execution_count": 6,
   "id": "685be953",
   "metadata": {},
   "outputs": [
    {
     "data": {
      "text/plain": [
       "1.99"
      ]
     },
     "execution_count": 6,
     "metadata": {},
     "output_type": "execute_result"
    }
   ],
   "source": [
    "prices['apple']"
   ]
  },
  {
   "cell_type": "markdown",
   "id": "7fe244a4",
   "metadata": {},
   "source": [
    "Including a list and dictionary in a dictionary"
   ]
  },
  {
   "cell_type": "code",
   "execution_count": 10,
   "id": "692bd1c9",
   "metadata": {},
   "outputs": [],
   "source": [
    "dict1 = {'k1':[1,2,3],'k2':{'k3':100}}"
   ]
  },
  {
   "cell_type": "code",
   "execution_count": 9,
   "id": "b46c4425",
   "metadata": {},
   "outputs": [
    {
     "data": {
      "text/plain": [
       "[1, 2, 3]"
      ]
     },
     "execution_count": 9,
     "metadata": {},
     "output_type": "execute_result"
    }
   ],
   "source": [
    "dict1['k1']"
   ]
  },
  {
   "cell_type": "code",
   "execution_count": 12,
   "id": "dcbc50da",
   "metadata": {},
   "outputs": [
    {
     "data": {
      "text/plain": [
       "100"
      ]
     },
     "execution_count": 12,
     "metadata": {},
     "output_type": "execute_result"
    }
   ],
   "source": [
    "dict1['k2']['k3']"
   ]
  },
  {
   "cell_type": "code",
   "execution_count": 13,
   "id": "f8824d7a",
   "metadata": {},
   "outputs": [
    {
     "data": {
      "text/plain": [
       "2"
      ]
     },
     "execution_count": 13,
     "metadata": {},
     "output_type": "execute_result"
    }
   ],
   "source": [
    "dict1['k1'][1]"
   ]
  },
  {
   "cell_type": "code",
   "execution_count": 15,
   "id": "a0ad951d",
   "metadata": {},
   "outputs": [
    {
     "data": {
      "text/plain": [
       "[1, 2, 3]"
      ]
     },
     "execution_count": 15,
     "metadata": {},
     "output_type": "execute_result"
    }
   ],
   "source": [
    "dict1['k1']"
   ]
  },
  {
   "cell_type": "code",
   "execution_count": 16,
   "id": "302d673a",
   "metadata": {},
   "outputs": [],
   "source": [
    "dict2 = {'k1':'a','k2':'b','k3':'c'}"
   ]
  },
  {
   "cell_type": "code",
   "execution_count": 18,
   "id": "92a9f06d",
   "metadata": {},
   "outputs": [
    {
     "data": {
      "text/plain": [
       "{'k1': 'a', 'k2': 'b', 'k3': 'c'}"
      ]
     },
     "execution_count": 18,
     "metadata": {},
     "output_type": "execute_result"
    }
   ],
   "source": [
    "dict2"
   ]
  },
  {
   "cell_type": "code",
   "execution_count": 19,
   "id": "0a7458d5",
   "metadata": {},
   "outputs": [],
   "source": [
    "dict3 = {'k1':['a','b','c']}"
   ]
  },
  {
   "cell_type": "code",
   "execution_count": 20,
   "id": "77297421",
   "metadata": {},
   "outputs": [
    {
     "data": {
      "text/plain": [
       "{'k1': ['a', 'b', 'c']}"
      ]
     },
     "execution_count": 20,
     "metadata": {},
     "output_type": "execute_result"
    }
   ],
   "source": [
    "dict3"
   ]
  },
  {
   "cell_type": "code",
   "execution_count": 21,
   "id": "94023ab7",
   "metadata": {},
   "outputs": [
    {
     "data": {
      "text/plain": [
       "'A'"
      ]
     },
     "execution_count": 21,
     "metadata": {},
     "output_type": "execute_result"
    }
   ],
   "source": [
    "dict3['k1'][0].upper()"
   ]
  },
  {
   "cell_type": "code",
   "execution_count": 23,
   "id": "ef6209d9",
   "metadata": {},
   "outputs": [
    {
     "data": {
      "text/plain": [
       "{'k1': ['a', 'b', 'c']}"
      ]
     },
     "execution_count": 23,
     "metadata": {},
     "output_type": "execute_result"
    }
   ],
   "source": [
    "dict3"
   ]
  },
  {
   "cell_type": "markdown",
   "id": "39de561f",
   "metadata": {},
   "source": [
    "Adding new key value pairs to a dictionary"
   ]
  },
  {
   "cell_type": "code",
   "execution_count": 25,
   "id": "439d5796",
   "metadata": {},
   "outputs": [],
   "source": [
    "dict4 = {'k1':100,'k2':200}"
   ]
  },
  {
   "cell_type": "code",
   "execution_count": 27,
   "id": "24c14967",
   "metadata": {
    "scrolled": true
   },
   "outputs": [],
   "source": [
    "dict4['k3'] = 300"
   ]
  },
  {
   "cell_type": "code",
   "execution_count": 28,
   "id": "9c2ded09",
   "metadata": {},
   "outputs": [
    {
     "data": {
      "text/plain": [
       "{'k1': 100, 'k2': 200, 'k3': 300}"
      ]
     },
     "execution_count": 28,
     "metadata": {},
     "output_type": "execute_result"
    }
   ],
   "source": [
    "dict4"
   ]
  },
  {
   "cell_type": "markdown",
   "id": "b52b1ca6",
   "metadata": {},
   "source": [
    "Updating key value in a dictionary"
   ]
  },
  {
   "cell_type": "code",
   "execution_count": 30,
   "id": "5e577412",
   "metadata": {},
   "outputs": [],
   "source": [
    "dict4['k3'] = 400"
   ]
  },
  {
   "cell_type": "code",
   "execution_count": 31,
   "id": "8b3ccb50",
   "metadata": {},
   "outputs": [
    {
     "data": {
      "text/plain": [
       "{'k1': 100, 'k2': 200, 'k3': 400}"
      ]
     },
     "execution_count": 31,
     "metadata": {},
     "output_type": "execute_result"
    }
   ],
   "source": [
    "dict4"
   ]
  },
  {
   "cell_type": "markdown",
   "id": "9a291a6e",
   "metadata": {},
   "source": [
    "Using keys() and values() to find all keys and/or valuesin a dictionary.\n",
    "items() returns keys and values"
   ]
  },
  {
   "cell_type": "code",
   "execution_count": 32,
   "id": "62d39f9a",
   "metadata": {},
   "outputs": [
    {
     "data": {
      "text/plain": [
       "dict_keys(['k1', 'k2', 'k3'])"
      ]
     },
     "execution_count": 32,
     "metadata": {},
     "output_type": "execute_result"
    }
   ],
   "source": [
    "dict4.keys()"
   ]
  },
  {
   "cell_type": "code",
   "execution_count": 33,
   "id": "9d4cf248",
   "metadata": {},
   "outputs": [
    {
     "data": {
      "text/plain": [
       "dict_values([100, 200, 400])"
      ]
     },
     "execution_count": 33,
     "metadata": {},
     "output_type": "execute_result"
    }
   ],
   "source": [
    "dict4.values()"
   ]
  },
  {
   "cell_type": "code",
   "execution_count": 34,
   "id": "7d2de3c9",
   "metadata": {},
   "outputs": [
    {
     "data": {
      "text/plain": [
       "dict_items([('k1', 100), ('k2', 200), ('k3', 400)])"
      ]
     },
     "execution_count": 34,
     "metadata": {},
     "output_type": "execute_result"
    }
   ],
   "source": [
    "dict4.items()"
   ]
  }
 ],
 "metadata": {
  "kernelspec": {
   "display_name": "Python 3 (ipykernel)",
   "language": "python",
   "name": "python3"
  },
  "language_info": {
   "codemirror_mode": {
    "name": "ipython",
    "version": 3
   },
   "file_extension": ".py",
   "mimetype": "text/x-python",
   "name": "python",
   "nbconvert_exporter": "python",
   "pygments_lexer": "ipython3",
   "version": "3.9.12"
  }
 },
 "nbformat": 4,
 "nbformat_minor": 5
}
