{
 "cells": [
  {
   "cell_type": "markdown",
   "id": "3154cada",
   "metadata": {},
   "source": [
    "Tuples are immutable Tupes use parenthesis (1,2,3) Can include strings and integers. Can use slicing and indexing"
   ]
  },
  {
   "cell_type": "code",
   "execution_count": 1,
   "id": "35c51d5a",
   "metadata": {},
   "outputs": [],
   "source": [
    "t = (1,2,3)"
   ]
  },
  {
   "cell_type": "code",
   "execution_count": 3,
   "id": "673cbae7",
   "metadata": {},
   "outputs": [],
   "source": [
    "mylist = [1,2,3]"
   ]
  },
  {
   "cell_type": "code",
   "execution_count": 4,
   "id": "3753d40c",
   "metadata": {},
   "outputs": [
    {
     "data": {
      "text/plain": [
       "3"
      ]
     },
     "execution_count": 4,
     "metadata": {},
     "output_type": "execute_result"
    }
   ],
   "source": [
    "len(t)"
   ]
  },
  {
   "cell_type": "code",
   "execution_count": 5,
   "id": "990c631d",
   "metadata": {},
   "outputs": [
    {
     "data": {
      "text/plain": [
       "1"
      ]
     },
     "execution_count": 5,
     "metadata": {},
     "output_type": "execute_result"
    }
   ],
   "source": [
    "t[0]"
   ]
  },
  {
   "cell_type": "markdown",
   "id": "44b1c325",
   "metadata": {},
   "source": [
    "Count and index in tuples. Index returns the location of the first integer or letter if more than one exist"
   ]
  },
  {
   "cell_type": "code",
   "execution_count": 6,
   "id": "d3137e96",
   "metadata": {},
   "outputs": [],
   "source": [
    "t = (1,1,1,2,3,4,3,)"
   ]
  },
  {
   "cell_type": "code",
   "execution_count": 8,
   "id": "3748d6a1",
   "metadata": {},
   "outputs": [
    {
     "data": {
      "text/plain": [
       "3"
      ]
     },
     "execution_count": 8,
     "metadata": {},
     "output_type": "execute_result"
    }
   ],
   "source": [
    "t.count(1)"
   ]
  },
  {
   "cell_type": "code",
   "execution_count": 9,
   "id": "b59e534b",
   "metadata": {},
   "outputs": [],
   "source": [
    "t2 = ('a','b','c','c')"
   ]
  },
  {
   "cell_type": "code",
   "execution_count": 13,
   "id": "abdcacb3",
   "metadata": {},
   "outputs": [
    {
     "data": {
      "text/plain": [
       "1"
      ]
     },
     "execution_count": 13,
     "metadata": {},
     "output_type": "execute_result"
    }
   ],
   "source": [
    "t2.index('b')"
   ]
  },
  {
   "cell_type": "code",
   "execution_count": 14,
   "id": "7d1ae115",
   "metadata": {},
   "outputs": [
    {
     "data": {
      "text/plain": [
       "2"
      ]
     },
     "execution_count": 14,
     "metadata": {},
     "output_type": "execute_result"
    }
   ],
   "source": [
    "t2.count('c')"
   ]
  },
  {
   "cell_type": "code",
   "execution_count": null,
   "id": "e31025ce",
   "metadata": {},
   "outputs": [],
   "source": []
  }
 ],
 "metadata": {
  "kernelspec": {
   "display_name": "Python 3 (ipykernel)",
   "language": "python",
   "name": "python3"
  },
  "language_info": {
   "codemirror_mode": {
    "name": "ipython",
    "version": 3
   },
   "file_extension": ".py",
   "mimetype": "text/x-python",
   "name": "python",
   "nbconvert_exporter": "python",
   "pygments_lexer": "ipython3",
   "version": "3.9.12"
  }
 },
 "nbformat": 4,
 "nbformat_minor": 5
}
