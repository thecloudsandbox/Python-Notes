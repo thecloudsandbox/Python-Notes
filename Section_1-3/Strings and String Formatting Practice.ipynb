{
 "cells": [
  {
   "cell_type": "markdown",
   "id": "026b5c3d",
   "metadata": {},
   "source": [
    "String Formatting with .format"
   ]
  },
  {
   "cell_type": "code",
   "execution_count": 10,
   "id": "6ba2f484",
   "metadata": {},
   "outputs": [
    {
     "name": "stdout",
     "output_type": "stream",
     "text": [
      "This is a string DUH\n"
     ]
    }
   ],
   "source": [
    "print('This is a string {}'.format('DUH'))"
   ]
  },
  {
   "cell_type": "code",
   "execution_count": 11,
   "id": "20f8cac1",
   "metadata": {},
   "outputs": [
    {
     "name": "stdout",
     "output_type": "stream",
     "text": [
      "The quick brown fox\n"
     ]
    }
   ],
   "source": [
    "print('The {2} {1} {0}'.format('fox','brown','quick'))"
   ]
  },
  {
   "cell_type": "code",
   "execution_count": 12,
   "id": "933fba04",
   "metadata": {},
   "outputs": [
    {
     "name": "stdout",
     "output_type": "stream",
     "text": [
      "The quick brown fox\n"
     ]
    }
   ],
   "source": [
    "print('The {q} {b} {f}'.format(f='fox',b='brown',q='quick'))"
   ]
  },
  {
   "cell_type": "markdown",
   "id": "6ea39056",
   "metadata": {},
   "source": [
    "Float Formatting with precision {value:width.precisionf}"
   ]
  },
  {
   "cell_type": "code",
   "execution_count": 14,
   "id": "59aab86f",
   "metadata": {},
   "outputs": [],
   "source": [
    "result = 100/777"
   ]
  },
  {
   "cell_type": "code",
   "execution_count": 16,
   "id": "9e967597",
   "metadata": {},
   "outputs": [
    {
     "name": "stdout",
     "output_type": "stream",
     "text": [
      "The result was 0.128700\n"
     ]
    }
   ],
   "source": [
    "print('The result was {r:1.6f}'.format(r=result))"
   ]
  },
  {
   "cell_type": "markdown",
   "id": "f919329e",
   "metadata": {},
   "source": [
    "F String Literals: Create var then place 'f' in front of the string\n",
    "\n",
    "name = \"Jon\"\n",
    "print(f'Hello, my nameis {name}')"
   ]
  },
  {
   "cell_type": "code",
   "execution_count": 2,
   "id": "31eef2b1",
   "metadata": {},
   "outputs": [],
   "source": [
    "name = \"Jon\""
   ]
  },
  {
   "cell_type": "code",
   "execution_count": 3,
   "id": "e598aac5",
   "metadata": {},
   "outputs": [
    {
     "name": "stdout",
     "output_type": "stream",
     "text": [
      "Hello, my name is Jon\n"
     ]
    }
   ],
   "source": [
    "print(f'Hello, my name is {name}')"
   ]
  },
  {
   "cell_type": "code",
   "execution_count": null,
   "id": "f129f860",
   "metadata": {},
   "outputs": [],
   "source": []
  }
 ],
 "metadata": {
  "kernelspec": {
   "display_name": "Python 3 (ipykernel)",
   "language": "python",
   "name": "python3"
  },
  "language_info": {
   "codemirror_mode": {
    "name": "ipython",
    "version": 3
   },
   "file_extension": ".py",
   "mimetype": "text/x-python",
   "name": "python",
   "nbconvert_exporter": "python",
   "pygments_lexer": "ipython3",
   "version": "3.9.12"
  }
 },
 "nbformat": 4,
 "nbformat_minor": 5
}
