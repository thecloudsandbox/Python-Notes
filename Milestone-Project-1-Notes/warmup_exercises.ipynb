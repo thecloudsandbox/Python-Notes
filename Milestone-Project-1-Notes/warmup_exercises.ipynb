{
 "cells": [
  {
   "cell_type": "markdown",
   "metadata": {},
   "source": [
    "<h3>Validating Input</h3>"
   ]
  },
  {
   "cell_type": "code",
   "execution_count": 12,
   "metadata": {},
   "outputs": [],
   "source": [
    "def user_choice():\n",
    "    \n",
    "    #Variables for input validation\n",
    "    choice = 'Invalid'\n",
    "    valid_choice = range(1,10)\n",
    "    inrange = False\n",
    "    \n",
    "    #Check if input is a digit and in range of valid input\n",
    "    while choice.isdigit() == False or inrange == False:\n",
    "        choice = input('Please enter a number between (1-10)')\n",
    "        if choice.isdigit() == False:\n",
    "            print('Invalid choice, try again')\n",
    "        \n",
    "        #Checking if input is in valid range\n",
    "        if choice.isdigit() == True:\n",
    "            if int(choice) in valid_choice:\n",
    "                inrange = True\n",
    "            else:\n",
    "                print('Your choice is out of range, try again')\n",
    "    \n",
    "    return int(choice)  "
   ]
  },
  {
   "cell_type": "code",
   "execution_count": 13,
   "metadata": {},
   "outputs": [
    {
     "name": "stdout",
     "output_type": "stream",
     "text": [
      "Your choice is out of range, try again\n",
      "Invalid choice, try again\n"
     ]
    },
    {
     "data": {
      "text/plain": [
       "1"
      ]
     },
     "execution_count": 13,
     "metadata": {},
     "output_type": "execute_result"
    }
   ],
   "source": [
    "user_choice()"
   ]
  },
  {
   "cell_type": "markdown",
   "metadata": {},
   "source": [
    "<h3>Sample Program</h3>"
   ]
  },
  {
   "cell_type": "code",
   "execution_count": 11,
   "metadata": {},
   "outputs": [],
   "source": [
    "game_list = [0,1,2]"
   ]
  },
  {
   "cell_type": "code",
   "execution_count": 12,
   "metadata": {},
   "outputs": [],
   "source": [
    "def display_game(game_list):\n",
    "    print('Here is the current list')\n",
    "    print(game_list)"
   ]
  },
  {
   "cell_type": "code",
   "execution_count": 13,
   "metadata": {},
   "outputs": [
    {
     "name": "stdout",
     "output_type": "stream",
     "text": [
      "Here is the current list\n",
      "[0, 1, 2]\n"
     ]
    }
   ],
   "source": [
    "display_game(game_list)"
   ]
  },
  {
   "cell_type": "code",
   "execution_count": 14,
   "metadata": {},
   "outputs": [],
   "source": [
    "def position_choice():\n",
    "    \n",
    "    choice = 'wrong'\n",
    "    \n",
    "    while choice not in ['0','1','2']:\n",
    "        \n",
    "        choice = input('Pick a position (0,1,2)')\n",
    "        \n",
    "        if choice not in ['0','1','2']:\n",
    "            print('Invalid choice, try again')\n",
    "    \n",
    "    return int(choice)  "
   ]
  },
  {
   "cell_type": "code",
   "execution_count": 15,
   "metadata": {},
   "outputs": [
    {
     "data": {
      "text/plain": [
       "0"
      ]
     },
     "execution_count": 15,
     "metadata": {},
     "output_type": "execute_result"
    }
   ],
   "source": [
    "position_choice()"
   ]
  },
  {
   "cell_type": "code",
   "execution_count": 18,
   "metadata": {},
   "outputs": [],
   "source": [
    "def replacement_choice(game_list,choice):\n",
    "    placement = input('Type a string to place at position: ')\n",
    "    \n",
    "    game_list[choice] = placement\n",
    "    \n",
    "    return game_list\n",
    "    "
   ]
  },
  {
   "cell_type": "code",
   "execution_count": 20,
   "metadata": {},
   "outputs": [
    {
     "data": {
      "text/plain": [
       "[0, 'fdf', 'egg']"
      ]
     },
     "execution_count": 20,
     "metadata": {},
     "output_type": "execute_result"
    }
   ],
   "source": [
    "replacement_choice(game_list,2)"
   ]
  },
  {
   "cell_type": "code",
   "execution_count": 9,
   "metadata": {},
   "outputs": [],
   "source": [
    "def continue_playing():\n",
    "    \n",
    "    \n",
    "    choice = 'wrong'\n",
    "    \n",
    "    while choice not in ['Y','N']:\n",
    "        \n",
    "        choice = input('Keep Playing? (Y or N)')\n",
    "        \n",
    "        if choice not in ['Y','N']:\n",
    "            print('Invalid choice, please enter Y or N')\n",
    "    \n",
    "    if choice == \"Y\":\n",
    "        return True\n",
    "    else:\n",
    "        return False\n",
    "    \n",
    "   "
   ]
  },
  {
   "cell_type": "code",
   "execution_count": 25,
   "metadata": {},
   "outputs": [
    {
     "data": {
      "text/plain": [
       "True"
      ]
     },
     "execution_count": 25,
     "metadata": {},
     "output_type": "execute_result"
    }
   ],
   "source": [
    "continue_playing()"
   ]
  },
  {
   "cell_type": "code",
   "execution_count": 23,
   "metadata": {},
   "outputs": [
    {
     "name": "stdout",
     "output_type": "stream",
     "text": [
      "Here is the current list\n",
      "[0, 1, 2]\n",
      "Here is the current list\n",
      "['skks', 1, 2]\n",
      "Here is the current list\n",
      "['skks', 1, 2]\n",
      "Here is the current list\n",
      "['skks', 'dsads', 2]\n",
      "Here is the current list\n",
      "['skks', 'dsads', 2]\n",
      "Here is the current list\n",
      "['skks', 'dsads', 'fdsfdgdsf']\n"
     ]
    }
   ],
   "source": [
    "\n",
    "gameon = True\n",
    "game_list = [0,1,2]\n",
    "\n",
    "while gameon:\n",
    "    #Start displaying game\n",
    "    display_game(game_list)\n",
    "    #Choosing the position\n",
    "    position = position_choice()\n",
    "    #Updating the position with choice\n",
    "    game_list = replacement_choice(game_list,position)\n",
    "    #Displaying the updated list\n",
    "    display_game(game_list)\n",
    "    #Ask if user wants to continue\n",
    "    gameon = continue_playing()\n",
    "    \n",
    "    "
   ]
  },
  {
   "cell_type": "code",
   "execution_count": null,
   "metadata": {},
   "outputs": [],
   "source": []
  }
 ],
 "metadata": {
  "kernelspec": {
   "display_name": "Python 3.8.10 64-bit",
   "language": "python",
   "name": "python3"
  },
  "language_info": {
   "codemirror_mode": {
    "name": "ipython",
    "version": 3
   },
   "file_extension": ".py",
   "mimetype": "text/x-python",
   "name": "python",
   "nbconvert_exporter": "python",
   "pygments_lexer": "ipython3",
   "version": "3.8.10"
  },
  "orig_nbformat": 4,
  "vscode": {
   "interpreter": {
    "hash": "916dbcbb3f70747c44a77c7bcd40155683ae19c65e1c03b4aa3499c5328201f1"
   }
  }
 },
 "nbformat": 4,
 "nbformat_minor": 2
}
