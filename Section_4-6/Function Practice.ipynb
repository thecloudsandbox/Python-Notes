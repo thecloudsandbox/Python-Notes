{
 "cells": [
  {
   "cell_type": "markdown",
   "metadata": {},
   "source": [
    "Udemy Python BootCamp Question 10 - Skyline <br>\n",
    "This was tough"
   ]
  },
  {
   "cell_type": "code",
   "execution_count": 7,
   "metadata": {},
   "outputs": [],
   "source": [
    "def myfunc(mystring):\n",
    "    result = []\n",
    "    #Use range and length of sting here for each letter in the string\n",
    "    for l in range(len(mystring)):\n",
    "        if l%2 == 0: #checks if even \n",
    "            result += mystring[l].upper() #converts letter to uppercase\n",
    "        elif l%2 == 1: #check if odd\n",
    "            result += mystring[l].lower() #converts letter to lowecase\n",
    "    return ''.join(result)  #concatenates all the letters into a new string\n",
    "\n",
    "            \n",
    "    "
   ]
  },
  {
   "cell_type": "code",
   "execution_count": 9,
   "metadata": {},
   "outputs": [
    {
     "data": {
      "text/plain": [
       "'ChOcOlAtEcAnDyBaR'"
      ]
     },
     "execution_count": 9,
     "metadata": {},
     "output_type": "execute_result"
    }
   ],
   "source": [
    "myfunc('chocolatecandybar')"
   ]
  }
 ],
 "metadata": {
  "kernelspec": {
   "display_name": "Python 3.8.10 64-bit",
   "language": "python",
   "name": "python3"
  },
  "language_info": {
   "codemirror_mode": {
    "name": "ipython",
    "version": 3
   },
   "file_extension": ".py",
   "mimetype": "text/x-python",
   "name": "python",
   "nbconvert_exporter": "python",
   "pygments_lexer": "ipython3",
   "version": "3.8.10"
  },
  "orig_nbformat": 4,
  "vscode": {
   "interpreter": {
    "hash": "916dbcbb3f70747c44a77c7bcd40155683ae19c65e1c03b4aa3499c5328201f1"
   }
  }
 },
 "nbformat": 4,
 "nbformat_minor": 2
}
